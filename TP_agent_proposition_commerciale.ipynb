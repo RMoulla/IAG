{
 "cells": [
  {
   "cell_type": "markdown",
   "id": "229eba50",
   "metadata": {},
   "source": [
    "\n",
    "# Génération d’une proposition commerciale avec un agent IA  \n",
    "\n",
    "## Objectif  \n",
    "Utiliser un agent IA (ChatGPT ou équivalent) pour produire une proposition commerciale complète et une synthèse exécutive à partir d’un brief interne, de résultats de test en magasin et d’une recherche externe.  \n",
    "\n",
    "---\n",
    "\n",
    "## Documents fournis  \n",
    "- `brief_coca_zero_citronvert_noMS.pdf` – Brief interne Coca-Cola Zero Citron Vert  \n",
    "- `resultats_test_coca_zero_citronvert.xlsx` – Résultats agrégés du test en magasin (ventes, taux d’essai, taux de réachat, trafic)  \n",
    "\n",
    "---\n",
    "\n",
    "## Exemple de prompt \n",
    "Tu agis comme consultant senior en marketing.  \n",
    "1. Lis attentivement le document PDF `brief_coca_zero_citronvert_noMS.pdf`.  \n",
    "2. Analyse le fichier Excel `resultats_test_coca_zero_citronvert.xlsx` : calcule les ventes moyennes par semaine, le taux d’essai et de réachat 18–34 ans, et l’évolution du trafic rayon.  \n",
    "3. Recherche en ligne une information sectorielle récente et fiable sur le marché des boissons sans sucre en France ou en Europe.  \n",
    "4. Rédige une proposition commerciale complète (1–2 pages) structurée en trois parties :  \n",
    "   - Contexte et opportunité marché  \n",
    "   - Résultats du test  \n",
    "   - Recommandations business  \n",
    "5. Adopte un ton professionnel, concis et persuasif, adapté à un comité exécutif. Inclus des graphiques si nécessaire.\n",
    "6. Fournis aussi une version ultra-synthétique en bullet points qui tienne sur une seule slide PowerPoint.  \n"
   ]
  }
 ],
 "metadata": {
  "language_info": {
   "name": "python"
  }
 },
 "nbformat": 4,
 "nbformat_minor": 5
}
